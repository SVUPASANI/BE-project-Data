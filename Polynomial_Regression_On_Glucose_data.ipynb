{
 "cells": [
  {
   "cell_type": "code",
   "execution_count": 1,
   "metadata": {},
   "outputs": [
    {
     "data": {
      "text/html": [
       "<div>\n",
       "<style scoped>\n",
       "    .dataframe tbody tr th:only-of-type {\n",
       "        vertical-align: middle;\n",
       "    }\n",
       "\n",
       "    .dataframe tbody tr th {\n",
       "        vertical-align: top;\n",
       "    }\n",
       "\n",
       "    .dataframe thead th {\n",
       "        text-align: right;\n",
       "    }\n",
       "</style>\n",
       "<table border=\"1\" class=\"dataframe\">\n",
       "  <thead>\n",
       "    <tr style=\"text-align: right;\">\n",
       "      <th></th>\n",
       "      <th>Analog_voltage</th>\n",
       "      <th>Glucose_level</th>\n",
       "    </tr>\n",
       "  </thead>\n",
       "  <tbody>\n",
       "    <tr>\n",
       "      <th>0</th>\n",
       "      <td>499</td>\n",
       "      <td>142</td>\n",
       "    </tr>\n",
       "    <tr>\n",
       "      <th>1</th>\n",
       "      <td>509</td>\n",
       "      <td>146</td>\n",
       "    </tr>\n",
       "    <tr>\n",
       "      <th>2</th>\n",
       "      <td>519</td>\n",
       "      <td>156</td>\n",
       "    </tr>\n",
       "    <tr>\n",
       "      <th>3</th>\n",
       "      <td>519</td>\n",
       "      <td>157</td>\n",
       "    </tr>\n",
       "    <tr>\n",
       "      <th>4</th>\n",
       "      <td>548</td>\n",
       "      <td>177</td>\n",
       "    </tr>\n",
       "  </tbody>\n",
       "</table>\n",
       "</div>"
      ],
      "text/plain": [
       "   Analog_voltage  Glucose_level\n",
       "0             499            142\n",
       "1             509            146\n",
       "2             519            156\n",
       "3             519            157\n",
       "4             548            177"
      ]
     },
     "execution_count": 1,
     "metadata": {},
     "output_type": "execute_result"
    }
   ],
   "source": [
    "import pandas as pd\n",
    "import numpy as np\n",
    "import matplotlib.pyplot as plt\n",
    "\n",
    "data = pd.read_csv('Glucose_data.csv')\n",
    "data.head()"
   ]
  },
  {
   "cell_type": "code",
   "execution_count": 2,
   "metadata": {},
   "outputs": [],
   "source": [
    "x = data.iloc[:, 0:1].values\n",
    "y = data.iloc[:, 1].values"
   ]
  },
  {
   "cell_type": "code",
   "execution_count": 3,
   "metadata": {},
   "outputs": [],
   "source": [
    "from sklearn.model_selection import train_test_split\n",
    "x_train, x_test, y_train, y_test = train_test_split(x,y, test_size = 0.3, random_state = 0)"
   ]
  },
  {
   "cell_type": "code",
   "execution_count": 4,
   "metadata": {},
   "outputs": [
    {
     "data": {
      "text/plain": [
       "LinearRegression()"
      ]
     },
     "execution_count": 4,
     "metadata": {},
     "output_type": "execute_result"
    }
   ],
   "source": [
    "from sklearn.linear_model import LinearRegression\n",
    "LinReg = LinearRegression()\n",
    "LinReg.fit(x_train, y_train)"
   ]
  },
  {
   "cell_type": "code",
   "execution_count": null,
   "metadata": {},
   "outputs": [],
   "source": []
  },
  {
   "cell_type": "code",
   "execution_count": 8,
   "metadata": {},
   "outputs": [
    {
     "data": {
      "text/plain": [
       "array([[1.00000e+00, 6.12000e+02, 3.74544e+05],\n",
       "       [1.00000e+00, 5.73000e+02, 3.28329e+05],\n",
       "       [1.00000e+00, 5.43000e+02, 2.94849e+05],\n",
       "       [1.00000e+00, 8.47000e+02, 7.17409e+05],\n",
       "       [1.00000e+00, 5.48000e+02, 3.00304e+05],\n",
       "       [1.00000e+00, 5.19000e+02, 2.69361e+05],\n",
       "       [1.00000e+00, 5.24000e+02, 2.74576e+05],\n",
       "       [1.00000e+00, 8.33000e+02, 6.93889e+05],\n",
       "       [1.00000e+00, 5.83000e+02, 3.39889e+05],\n",
       "       [1.00000e+00, 5.68000e+02, 3.22624e+05],\n",
       "       [1.00000e+00, 8.67000e+02, 7.51689e+05],\n",
       "       [1.00000e+00, 5.19000e+02, 2.69361e+05],\n",
       "       [1.00000e+00, 4.99000e+02, 2.49001e+05],\n",
       "       [1.00000e+00, 9.99000e+02, 9.98001e+05],\n",
       "       [1.00000e+00, 7.35000e+02, 5.40225e+05],\n",
       "       [1.00000e+00, 6.07000e+02, 3.68449e+05]])"
      ]
     },
     "execution_count": 8,
     "metadata": {},
     "output_type": "execute_result"
    }
   ],
   "source": [
    "from sklearn.preprocessing import PolynomialFeatures\n",
    "\n",
    "polynom = PolynomialFeatures(degree = 2)\n",
    "x_polynom = polynom.fit_transform(x_train)\n",
    "\n",
    "x_polynom"
   ]
  },
  {
   "cell_type": "code",
   "execution_count": 10,
   "metadata": {},
   "outputs": [
    {
     "data": {
      "text/plain": [
       "LinearRegression()"
      ]
     },
     "execution_count": 10,
     "metadata": {},
     "output_type": "execute_result"
    }
   ],
   "source": [
    "PolyReg = LinearRegression()\n",
    "PolyReg.fit(x_polynom, y_train)"
   ]
  },
  {
   "cell_type": "code",
   "execution_count": 37,
   "metadata": {},
   "outputs": [
    {
     "data": {
      "image/png": "[encoded data removed]",
      "text/plain": [
       "<Figure size 432x288 with 1 Axes>"
      ]
     },
     "metadata": {
      "needs_background": "light"
     },
     "output_type": "display_data"
    }
   ],
   "source": [
    "f,ax = plt.subplots(1)\n",
    "ax.scatter(x_train, y_train, color = 'blue')\n",
    "ax.plot(x_train, PolyReg.predict(x_polynom), color = 'green')\n",
    "start,end = ax.get_xlim()\n",
    "ax.xaxis.set_ticks(np.arange(0,2000,500))\n",
    "ax.set_ylim(0,400)\n",
    "\n",
    "plt.title('Linear Regression')\n",
    "plt.xlabel('Analog_Voltage')\n",
    "plt.ylabel('Glucose_level')\n",
    "plt.show()"
   ]
  },
  {
   "cell_type": "code",
   "execution_count": null,
   "metadata": {},
   "outputs": [],
   "source": []
  }
 ],
 "metadata": {
  "kernelspec": {
   "display_name": "Python 3",
   "language": "python",
   "name": "python3"
  },
  "language_info": {
   "codemirror_mode": {
    "name": "ipython",
    "version": 3
   },
   "file_extension": ".py",
   "mimetype": "text/x-python",
   "name": "python",
   "nbconvert_exporter": "python",
   "pygments_lexer": "ipython3",
   "version": "3.8.3"
  }
 },
 "nbformat": 4,
 "nbformat_minor": 4
}
